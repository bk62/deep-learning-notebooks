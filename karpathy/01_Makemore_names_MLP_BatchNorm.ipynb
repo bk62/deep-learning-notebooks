{
  "nbformat": 4,
  "nbformat_minor": 0,
  "metadata": {
    "colab": {
      "provenance": [],
      "gpuType": "T4",
      "authorship_tag": "ABX9TyO4DX1mY9nuEuoTe7lLakfo",
      "include_colab_link": true
    },
    "kernelspec": {
      "name": "python3",
      "display_name": "Python 3"
    },
    "language_info": {
      "name": "python"
    },
    "accelerator": "GPU"
  },
  "cells": [
    {
      "cell_type": "markdown",
      "metadata": {
        "id": "view-in-github",
        "colab_type": "text"
      },
      "source": [
        "<a href=\"https://colab.research.google.com/github/bk62/deep-learning-notebooks/blob/main/karpathy/01_Makemore_names_MLP_BatchNorm.ipynb\" target=\"_parent\"><img src=\"https://colab.research.google.com/assets/colab-badge.svg\" alt=\"Open In Colab\"/></a>"
      ]
    },
    {
      "cell_type": "code",
      "execution_count": null,
      "metadata": {
        "id": "IUnpqiIqd3m_"
      },
      "outputs": [],
      "source": [
        "import torch\n",
        "import torch.nn.functional as F\n",
        "import matplotlib.pyplot as plt # for making figures\n",
        "%matplotlib inline"
      ]
    },
    {
      "cell_type": "markdown",
      "source": [
        "# Makemore 2 - MLP"
      ],
      "metadata": {
        "id": "gCPTL0QGd57v"
      }
    },
    {
      "cell_type": "code",
      "source": [
        "!wget https://raw.githubusercontent.com/karpathy/makemore/master/names.txt"
      ],
      "metadata": {
        "colab": {
          "base_uri": "https://localhost:8080/"
        },
        "id": "Nu-RSoMEd8SS",
        "outputId": "0c552b65-c98b-48d2-ceef-34eca36fe879"
      },
      "execution_count": null,
      "outputs": [
        {
          "output_type": "stream",
          "name": "stdout",
          "text": [
            "--2023-11-16 20:21:51--  https://raw.githubusercontent.com/karpathy/makemore/master/names.txt\n",
            "Resolving raw.githubusercontent.com (raw.githubusercontent.com)... 185.199.109.133, 185.199.108.133, 185.199.111.133, ...\n",
            "Connecting to raw.githubusercontent.com (raw.githubusercontent.com)|185.199.109.133|:443... connected.\n",
            "HTTP request sent, awaiting response... 200 OK\n",
            "Length: 228145 (223K) [text/plain]\n",
            "Saving to: ‘names.txt’\n",
            "\n",
            "\rnames.txt             0%[                    ]       0  --.-KB/s               \rnames.txt           100%[===================>] 222.80K  --.-KB/s    in 0.01s   \n",
            "\n",
            "2023-11-16 20:21:51 (17.3 MB/s) - ‘names.txt’ saved [228145/228145]\n",
            "\n"
          ]
        }
      ]
    },
    {
      "cell_type": "code",
      "source": [
        "# read in all the words\n",
        "words = open('names.txt', 'r').read().splitlines()\n",
        "words[:8], len(words)"
      ],
      "metadata": {
        "colab": {
          "base_uri": "https://localhost:8080/"
        },
        "id": "xEUQRVxHeAGt",
        "outputId": "78a7906e-0684-4463-8ffe-f7f4a4157a04"
      },
      "execution_count": null,
      "outputs": [
        {
          "output_type": "execute_result",
          "data": {
            "text/plain": [
              "(['emma', 'olivia', 'ava', 'isabella', 'sophia', 'charlotte', 'mia', 'amelia'],\n",
              " 32033)"
            ]
          },
          "metadata": {},
          "execution_count": 3
        }
      ]
    },
    {
      "cell_type": "code",
      "source": [
        "# build the vocabulary of characters and mappings to/from integers\n",
        "chars = sorted(list(set(''.join(words))))\n",
        "stoi = {s:i+1 for i,s in enumerate(chars)}\n",
        "stoi['.'] = 0\n",
        "itos = {i:s for s,i in stoi.items()}\n",
        "print(itos)"
      ],
      "metadata": {
        "colab": {
          "base_uri": "https://localhost:8080/"
        },
        "id": "s9LNv883eH5F",
        "outputId": "5b176695-d3a5-46a9-98fd-ffb7f8313f66"
      },
      "execution_count": null,
      "outputs": [
        {
          "output_type": "stream",
          "name": "stdout",
          "text": [
            "{1: 'a', 2: 'b', 3: 'c', 4: 'd', 5: 'e', 6: 'f', 7: 'g', 8: 'h', 9: 'i', 10: 'j', 11: 'k', 12: 'l', 13: 'm', 14: 'n', 15: 'o', 16: 'p', 17: 'q', 18: 'r', 19: 's', 20: 't', 21: 'u', 22: 'v', 23: 'w', 24: 'x', 25: 'y', 26: 'z', 0: '.'}\n"
          ]
        }
      ]
    },
    {
      "cell_type": "code",
      "source": [
        "# build the dataset\n",
        "\n",
        "block_size = 3 # context length: how many characters do we take to predict the next one?\n",
        "X, Y = [], []\n",
        "for w in words:\n",
        "\n",
        "  #print(w)\n",
        "  context = [0] * block_size\n",
        "  for ch in w + '.':\n",
        "    ix = stoi[ch]\n",
        "    X.append(context)\n",
        "    Y.append(ix)\n",
        "    #print(''.join(itos[i] for i in context), '--->', itos[ix])\n",
        "    context = context[1:] + [ix] # crop and append\n",
        "\n",
        "X = torch.tensor(X)\n",
        "Y = torch.tensor(Y)"
      ],
      "metadata": {
        "id": "FRNe9JYyebpE"
      },
      "execution_count": null,
      "outputs": []
    },
    {
      "cell_type": "code",
      "source": [
        "X.shape, X.dtype, Y.shape, Y.dtype\n"
      ],
      "metadata": {
        "colab": {
          "base_uri": "https://localhost:8080/"
        },
        "id": "3ii3I08Wg9HH",
        "outputId": "ba067225-0c31-429c-d26c-772bcb03776d"
      },
      "execution_count": null,
      "outputs": [
        {
          "output_type": "execute_result",
          "data": {
            "text/plain": [
              "(torch.Size([228146, 3]), torch.int64, torch.Size([228146]), torch.int64)"
            ]
          },
          "metadata": {},
          "execution_count": 6
        }
      ]
    },
    {
      "cell_type": "code",
      "source": [
        "# build the dataset\n",
        "block_size = 3 # context length: how many characters do we take to predict the next one?\n",
        "\n",
        "def build_dataset(words):\n",
        "  X, Y = [], []\n",
        "  for w in words:\n",
        "\n",
        "    #print(w)\n",
        "    context = [0] * block_size\n",
        "    for ch in w + '.':\n",
        "      ix = stoi[ch]\n",
        "      X.append(context)\n",
        "      Y.append(ix)\n",
        "      #print(''.join(itos[i] for i in context), '--->', itos[ix])\n",
        "      context = context[1:] + [ix] # crop and append\n",
        "\n",
        "  X = torch.tensor(X)\n",
        "  Y = torch.tensor(Y)\n",
        "  print(X.shape, Y.shape)\n",
        "  return X, Y\n",
        "\n",
        "import random\n",
        "random.seed(42)\n",
        "random.shuffle(words)\n",
        "n1 = int(0.8*len(words))\n",
        "n2 = int(0.9*len(words))\n",
        "\n",
        "Xtr, Ytr = build_dataset(words[:n1])\n",
        "Xdev, Ydev = build_dataset(words[n1:n2])\n",
        "Xte, Yte = build_dataset(words[n2:])"
      ],
      "metadata": {
        "colab": {
          "base_uri": "https://localhost:8080/"
        },
        "id": "ne47XR6IhcJO",
        "outputId": "30985212-a20e-42a9-cd99-b1b14994cf4b"
      },
      "execution_count": null,
      "outputs": [
        {
          "output_type": "stream",
          "name": "stdout",
          "text": [
            "torch.Size([182625, 3]) torch.Size([182625])\n",
            "torch.Size([22655, 3]) torch.Size([22655])\n",
            "torch.Size([22866, 3]) torch.Size([22866])\n"
          ]
        }
      ]
    },
    {
      "cell_type": "code",
      "source": [
        "from torch import nn\n",
        "\n",
        "# Get cpu, gpu or mps device for training.\n",
        "device = (\n",
        "    \"cuda\"\n",
        "    if torch.cuda.is_available()\n",
        "    else \"mps\"\n",
        "    if torch.backends.mps.is_available()\n",
        "    else \"cpu\"\n",
        ")\n",
        "print(f\"Using {device} device\")"
      ],
      "metadata": {
        "colab": {
          "base_uri": "https://localhost:8080/"
        },
        "id": "tDsoD127iGsr",
        "outputId": "828e4263-11aa-4be3-86a8-30cf8d6975b4"
      },
      "execution_count": null,
      "outputs": [
        {
          "output_type": "stream",
          "name": "stdout",
          "text": [
            "Using cuda device\n"
          ]
        }
      ]
    },
    {
      "cell_type": "code",
      "source": [
        "class MakeMoreMLP(nn.Module):\n",
        "  def __init__(self, num_embeddings=len(chars) + 1, embedding_dim=10,\n",
        "               num_chars=3, hidden_dim=100):\n",
        "    super().__init__()\n",
        "    self.embeddings = nn.Embedding(num_embeddings, embedding_dim)\n",
        "    self.stack = nn.Sequential(\n",
        "        nn.Linear(embedding_dim * num_chars, hidden_dim),\n",
        "        nn.Tanh(),\n",
        "        nn.Linear(hidden_dim, num_embeddings)\n",
        "    )\n",
        "\n",
        "  def forward(self, x):\n",
        "    x = self.embeddings(x).view(-1, 30)\n",
        "    logits = self.stack(x)\n",
        "    return logits\n",
        "\n",
        "model = MakeMoreMLP().to(device)\n",
        "print(model)"
      ],
      "metadata": {
        "colab": {
          "base_uri": "https://localhost:8080/"
        },
        "id": "QMqlXYlSiW2D",
        "outputId": "3d0fdc09-ce82-4d44-a809-d81faecd29eb"
      },
      "execution_count": null,
      "outputs": [
        {
          "output_type": "stream",
          "name": "stdout",
          "text": [
            "MakeMoreMLP(\n",
            "  (embeddings): Embedding(27, 10)\n",
            "  (stack): Sequential(\n",
            "    (0): Linear(in_features=30, out_features=100, bias=True)\n",
            "    (1): Tanh()\n",
            "    (2): Linear(in_features=100, out_features=27, bias=True)\n",
            "  )\n",
            ")\n"
          ]
        }
      ]
    },
    {
      "cell_type": "code",
      "source": [
        "def train(dataloader, model, loss_fn, optimizer):\n",
        "    size = len(dataloader.dataset)\n",
        "    model.train()\n",
        "    for batch, (X, y) in enumerate(dataloader):\n",
        "        X, y = X.to(device), y.to(device)\n",
        "\n",
        "        # Compute prediction error\n",
        "        pred = model(X)\n",
        "        loss = loss_fn(pred, y)\n",
        "\n",
        "        # Backpropagation\n",
        "        loss.backward()\n",
        "        optimizer.step()\n",
        "        optimizer.zero_grad()\n",
        "\n",
        "        if batch % 1000 == 0:\n",
        "            loss, current = loss.item(), (batch + 1) * len(X)\n",
        "            print(f\"loss: {loss:>7f}  [{current:>5d}/{size:>5d}]\")"
      ],
      "metadata": {
        "id": "M-ezmTaTjQor"
      },
      "execution_count": null,
      "outputs": []
    },
    {
      "cell_type": "code",
      "source": [
        "def test(dataloader, model, loss_fn):\n",
        "    size = len(dataloader.dataset)\n",
        "    num_batches = len(dataloader)\n",
        "    model.eval()\n",
        "    test_loss, correct = 0, 0\n",
        "    with torch.no_grad():\n",
        "        for X, y in dataloader:\n",
        "            X, y = X.to(device), y.to(device)\n",
        "            pred = model(X)\n",
        "            test_loss += loss_fn(pred, y).item()\n",
        "            correct += (pred.argmax(1) == y).type(torch.float).sum().item()\n",
        "    test_loss /= num_batches\n",
        "    correct /= size\n",
        "    print(f\"Test Error: \\n Accuracy: {(100*correct):>0.1f}%, Avg loss: {test_loss:>8f} \\n\")"
      ],
      "metadata": {
        "id": "hDBHcL6WkpPG"
      },
      "execution_count": null,
      "outputs": []
    },
    {
      "cell_type": "code",
      "source": [
        "from torch.utils.data import Dataset, DataLoader"
      ],
      "metadata": {
        "id": "TQSR3A2Rl5OP"
      },
      "execution_count": null,
      "outputs": []
    },
    {
      "cell_type": "code",
      "source": [
        "class NamesDataset(Dataset):\n",
        "  def __init__(self, X, Y):\n",
        "    self.X = X\n",
        "    self.Y = Y\n",
        "\n",
        "  def __len__(self):\n",
        "    return self.X.shape[0]\n",
        "\n",
        "  def __getitem__(self, i):\n",
        "    return self.X[i], self.Y[i]\n",
        "\n",
        "\n",
        "batch_size = 64\n",
        "\n",
        "\n",
        "# Create data loaders.\n",
        "train_dataloader = DataLoader(NamesDataset(Xtr, Ytr), batch_size=batch_size, drop_last=True)\n",
        "test_dataloader = DataLoader(NamesDataset(Xte, Yte), batch_size=batch_size)\n",
        "\n",
        "for X, y in test_dataloader:\n",
        "    print(f\"Shape of X [N, C]: {X.shape}\")\n",
        "    print(f\"Shape of y: {y.shape} {y.dtype}\")\n",
        "    break"
      ],
      "metadata": {
        "colab": {
          "base_uri": "https://localhost:8080/"
        },
        "id": "vwZLw5MVl0L7",
        "outputId": "6cc76c03-8b76-4bc2-97b8-3106eae920c7"
      },
      "execution_count": null,
      "outputs": [
        {
          "output_type": "stream",
          "name": "stdout",
          "text": [
            "Shape of X [N, C]: torch.Size([64, 3])\n",
            "Shape of y: torch.Size([64]) torch.int64\n"
          ]
        }
      ]
    },
    {
      "cell_type": "code",
      "source": [
        "loss_fn = nn.CrossEntropyLoss()\n",
        "optimizer = torch.optim.SGD(model.parameters(), lr=0.01)"
      ],
      "metadata": {
        "id": "Tilorl1LjGAj"
      },
      "execution_count": null,
      "outputs": []
    },
    {
      "cell_type": "code",
      "source": [
        "\n",
        "epochs = 5\n",
        "for t in range(epochs):\n",
        "    print(f\"Epoch {t+1}\\n-------------------------------\")\n",
        "    train(train_dataloader, model, loss_fn, optimizer)\n",
        "    test(test_dataloader, model, loss_fn)\n",
        "print(\"Done!\")"
      ],
      "metadata": {
        "colab": {
          "base_uri": "https://localhost:8080/"
        },
        "id": "lIzPTWOQkqMp",
        "outputId": "8c60ce5d-f889-4284-d64f-10631b5cd387"
      },
      "execution_count": null,
      "outputs": [
        {
          "output_type": "stream",
          "name": "stdout",
          "text": [
            "Epoch 1\n",
            "-------------------------------\n",
            "loss: 2.402089  [   64/182625]\n",
            "loss: 1.879535  [64064/182625]\n",
            "loss: 2.265327  [128064/182625]\n",
            "Test Error: \n",
            " Accuracy: 33.0%, Avg loss: 2.137007 \n",
            "\n",
            "Epoch 2\n",
            "-------------------------------\n",
            "loss: 2.383752  [   64/182625]\n",
            "loss: 1.870460  [64064/182625]\n",
            "loss: 2.260358  [128064/182625]\n",
            "Test Error: \n",
            " Accuracy: 33.1%, Avg loss: 2.135966 \n",
            "\n",
            "Epoch 3\n",
            "-------------------------------\n",
            "loss: 2.383617  [   64/182625]\n",
            "loss: 1.868253  [64064/182625]\n",
            "loss: 2.258203  [128064/182625]\n",
            "Test Error: \n",
            " Accuracy: 33.1%, Avg loss: 2.135526 \n",
            "\n",
            "Epoch 4\n",
            "-------------------------------\n",
            "loss: 2.382157  [   64/182625]\n",
            "loss: 1.867142  [64064/182625]\n",
            "loss: 2.256966  [128064/182625]\n",
            "Test Error: \n",
            " Accuracy: 33.1%, Avg loss: 2.135235 \n",
            "\n",
            "Epoch 5\n",
            "-------------------------------\n",
            "loss: 2.380704  [   64/182625]\n",
            "loss: 1.866384  [64064/182625]\n",
            "loss: 2.255970  [128064/182625]\n",
            "Test Error: \n",
            " Accuracy: 33.2%, Avg loss: 2.135003 \n",
            "\n",
            "Done!\n"
          ]
        }
      ]
    },
    {
      "cell_type": "code",
      "source": [
        "# sample from the model\n",
        "g = torch.Generator(device=device).manual_seed(2147483647 + 10)\n",
        "\n",
        "for _ in range(20):\n",
        "\n",
        "    out = []\n",
        "    context = [0] * block_size # initialize with all ...\n",
        "    while True:\n",
        "      logits = model(torch.tensor([context]).to(device))\n",
        "      probs = F.softmax(logits, dim=1)\n",
        "      ix = torch.multinomial(probs, num_samples=1, generator=g).item()\n",
        "      context = context[1:] + [ix]\n",
        "      out.append(ix)\n",
        "      if ix == 0:\n",
        "        break\n",
        "\n",
        "    print(''.join(itos[i] for i in out))"
      ],
      "metadata": {
        "colab": {
          "base_uri": "https://localhost:8080/"
        },
        "id": "7g7Q5j_xqpsU",
        "outputId": "735e4772-c9d8-41da-9bd1-a57162a24f35"
      },
      "execution_count": null,
      "outputs": [
        {
          "output_type": "stream",
          "name": "stdout",
          "text": [
            "brenten.\n",
            "ezrinde.\n",
            "randrynn.\n",
            "rer.\n",
            "ley.\n",
            "jeidia.\n",
            "murah.\n",
            "emi.\n",
            "chritt.\n",
            "den.\n",
            "wylissa.\n",
            "mely.\n",
            "breyloni.\n",
            "abstet.\n",
            "tylendelidyn.\n",
            "zaz.\n",
            "rann.\n",
            "jullana.\n",
            "dorge.\n",
            "driel.\n"
          ]
        }
      ]
    },
    {
      "cell_type": "markdown",
      "source": [
        "# Makemore 3 - Batch normalization"
      ],
      "metadata": {
        "id": "C3-yrL1-uANw"
      }
    },
    {
      "cell_type": "code",
      "source": [
        "class MakeMoreMLPBN(nn.Module):\n",
        "  def __init__(self, num_embeddings=len(chars) + 1, embedding_dim=10,\n",
        "               num_chars=3, hidden_dim=100):\n",
        "    super().__init__()\n",
        "    self.embeddings = nn.Embedding(num_embeddings, embedding_dim)\n",
        "    self.stack = nn.Sequential(\n",
        "        nn.Linear(embedding_dim * num_chars, hidden_dim),\n",
        "        nn.BatchNorm1d(hidden_dim, momentum=0.01),\n",
        "        nn.Tanh(),\n",
        "        nn.Linear(hidden_dim, num_embeddings),\n",
        "        nn.BatchNorm1d(num_embeddings, momentum=0.01)\n",
        "    )\n",
        "\n",
        "  def forward(self, x):\n",
        "    x = self.embeddings(x).view(-1, 30)\n",
        "    logits = self.stack(x)\n",
        "    return logits\n",
        "\n",
        "model = MakeMoreMLPBN().to(device)\n",
        "print(model)"
      ],
      "metadata": {
        "colab": {
          "base_uri": "https://localhost:8080/"
        },
        "id": "2rmWHFRotskH",
        "outputId": "82d5c6f3-ab8d-4551-bfc4-afaddbd3fbdb"
      },
      "execution_count": null,
      "outputs": [
        {
          "output_type": "stream",
          "name": "stdout",
          "text": [
            "MakeMoreMLPBN(\n",
            "  (embeddings): Embedding(27, 10)\n",
            "  (stack): Sequential(\n",
            "    (0): Linear(in_features=30, out_features=100, bias=True)\n",
            "    (1): BatchNorm1d(100, eps=1e-05, momentum=0.01, affine=True, track_running_stats=True)\n",
            "    (2): Tanh()\n",
            "    (3): Linear(in_features=100, out_features=27, bias=True)\n",
            "    (4): BatchNorm1d(27, eps=1e-05, momentum=0.01, affine=True, track_running_stats=True)\n",
            "  )\n",
            ")\n"
          ]
        }
      ]
    },
    {
      "cell_type": "code",
      "source": [
        "loss_fn = nn.CrossEntropyLoss()\n",
        "optimizer = torch.optim.SGD(model.parameters(), lr=0.001)\n",
        "\n",
        "\n",
        "epochs = 5\n",
        "for t in range(epochs):\n",
        "    print(f\"Epoch {t+1}\\n-------------------------------\")\n",
        "    train(train_dataloader, model, loss_fn, optimizer)\n",
        "    test(test_dataloader, model, loss_fn)\n",
        "print(\"Done!\")"
      ],
      "metadata": {
        "colab": {
          "base_uri": "https://localhost:8080/"
        },
        "id": "EqbORwW7wuqd",
        "outputId": "893b2a2a-45e3-4433-c57b-bbf8a75681b2"
      },
      "execution_count": null,
      "outputs": [
        {
          "output_type": "stream",
          "name": "stdout",
          "text": [
            "Epoch 1\n",
            "-------------------------------\n",
            "loss: 2.333525  [   64/182625]\n",
            "loss: 1.874703  [64064/182625]\n",
            "loss: 2.207645  [128064/182625]\n",
            "Test Error: \n",
            " Accuracy: 33.5%, Avg loss: 2.155175 \n",
            "\n",
            "Epoch 2\n",
            "-------------------------------\n",
            "loss: 2.332535  [   64/182625]\n",
            "loss: 1.874626  [64064/182625]\n",
            "loss: 2.207402  [128064/182625]\n",
            "Test Error: \n",
            " Accuracy: 33.5%, Avg loss: 2.155139 \n",
            "\n",
            "Epoch 3\n",
            "-------------------------------\n",
            "loss: 2.332241  [   64/182625]\n",
            "loss: 1.874454  [64064/182625]\n",
            "loss: 2.207337  [128064/182625]\n",
            "Test Error: \n",
            " Accuracy: 33.5%, Avg loss: 2.155130 \n",
            "\n",
            "Epoch 4\n",
            "-------------------------------\n",
            "loss: 2.332170  [   64/182625]\n",
            "loss: 1.874248  [64064/182625]\n",
            "loss: 2.207365  [128064/182625]\n",
            "Test Error: \n",
            " Accuracy: 33.5%, Avg loss: 2.155133 \n",
            "\n",
            "Epoch 5\n",
            "-------------------------------\n",
            "loss: 2.332170  [   64/182625]\n",
            "loss: 1.874047  [64064/182625]\n",
            "loss: 2.207435  [128064/182625]\n",
            "Test Error: \n",
            " Accuracy: 33.5%, Avg loss: 2.155142 \n",
            "\n",
            "Done!\n"
          ]
        }
      ]
    },
    {
      "cell_type": "code",
      "source": [
        "# sample from the model\n",
        "g = torch.Generator().manual_seed(2147483647 + 10)\n",
        "\n",
        "for _ in range(20):\n",
        "\n",
        "    out = []\n",
        "    context = [0] * block_size # initialize with all ...\n",
        "    while True:\n",
        "      logits = model(torch.tensor([context]))\n",
        "      probs = F.softmax(logits, dim=1)\n",
        "      ix = torch.multinomial(probs, num_samples=1, generator=g).item()\n",
        "      context = context[1:] + [ix]\n",
        "      out.append(ix)\n",
        "      if ix == 0:\n",
        "        break\n",
        "\n",
        "    print(''.join(itos[i] for i in out))"
      ],
      "metadata": {
        "id": "jeYw2kUQxD9x"
      },
      "execution_count": null,
      "outputs": []
    },
    {
      "cell_type": "code",
      "source": [
        "class MakeMoreMLPBN(nn.Module):\n",
        "  def __init__(self, num_embeddings=len(chars) + 1, embedding_dim=10,\n",
        "               num_chars=3, hidden_dim=100):\n",
        "    super().__init__()\n",
        "    self.embeddings = nn.Embedding(num_embeddings, embedding_dim)\n",
        "    self.stack = nn.Sequential(\n",
        "        nn.Linear(embedding_dim * num_chars, hidden_dim),\n",
        "        nn.BatchNorm1d(hidden_dim, momentum=0.01),\n",
        "        nn.Tanh(),\n",
        "        nn.Linear(hidden_dim, hidden_dim),\n",
        "        nn.BatchNorm1d(hidden_dim, momentum=0.01),\n",
        "        nn.Tanh(),\n",
        "        nn.Linear(hidden_dim, hidden_dim),\n",
        "        nn.BatchNorm1d(hidden_dim, momentum=0.01),\n",
        "        nn.Tanh(),\n",
        "        nn.Linear(hidden_dim, hidden_dim),\n",
        "        nn.BatchNorm1d(hidden_dim, momentum=0.01),\n",
        "        nn.Tanh(),\n",
        "        nn.Linear(hidden_dim, hidden_dim),\n",
        "        nn.BatchNorm1d(hidden_dim, momentum=0.01),\n",
        "        nn.Tanh(),\n",
        "        nn.Linear(hidden_dim, num_embeddings),\n",
        "        nn.BatchNorm1d(num_embeddings, momentum=0.01)\n",
        "    )\n",
        "\n",
        "  def forward(self, x):\n",
        "    x = self.embeddings(x).view(-1, 30)\n",
        "    logits = self.stack(x)\n",
        "    return logits\n",
        "\n",
        "model = MakeMoreMLPBN().to(device)\n",
        "print(model)"
      ],
      "metadata": {
        "colab": {
          "base_uri": "https://localhost:8080/"
        },
        "id": "kc2D_sPcyx7T",
        "outputId": "833a968c-5cd8-4666-dfa7-b23ef252af5e"
      },
      "execution_count": null,
      "outputs": [
        {
          "output_type": "stream",
          "name": "stdout",
          "text": [
            "MakeMoreMLPBN(\n",
            "  (embeddings): Embedding(27, 10)\n",
            "  (stack): Sequential(\n",
            "    (0): Linear(in_features=30, out_features=100, bias=True)\n",
            "    (1): BatchNorm1d(100, eps=1e-05, momentum=0.01, affine=True, track_running_stats=True)\n",
            "    (2): Tanh()\n",
            "    (3): Linear(in_features=100, out_features=100, bias=True)\n",
            "    (4): BatchNorm1d(100, eps=1e-05, momentum=0.01, affine=True, track_running_stats=True)\n",
            "    (5): Tanh()\n",
            "    (6): Linear(in_features=100, out_features=100, bias=True)\n",
            "    (7): BatchNorm1d(100, eps=1e-05, momentum=0.01, affine=True, track_running_stats=True)\n",
            "    (8): Tanh()\n",
            "    (9): Linear(in_features=100, out_features=100, bias=True)\n",
            "    (10): BatchNorm1d(100, eps=1e-05, momentum=0.01, affine=True, track_running_stats=True)\n",
            "    (11): Tanh()\n",
            "    (12): Linear(in_features=100, out_features=100, bias=True)\n",
            "    (13): BatchNorm1d(100, eps=1e-05, momentum=0.01, affine=True, track_running_stats=True)\n",
            "    (14): Tanh()\n",
            "    (15): Linear(in_features=100, out_features=27, bias=True)\n",
            "    (16): BatchNorm1d(27, eps=1e-05, momentum=0.01, affine=True, track_running_stats=True)\n",
            "  )\n",
            ")\n"
          ]
        }
      ]
    },
    {
      "cell_type": "code",
      "source": [
        "loss_fn = nn.CrossEntropyLoss()\n",
        "optimizer = torch.optim.SGD(model.parameters(), lr=1e-3)\n",
        "\n",
        "\n",
        "epochs = 5\n",
        "for t in range(epochs):\n",
        "    print(f\"Epoch {t+1}\\n-------------------------------\")\n",
        "    train(train_dataloader, model, loss_fn, optimizer)\n",
        "    test(test_dataloader, model, loss_fn)\n",
        "print(\"Done!\")"
      ],
      "metadata": {
        "colab": {
          "base_uri": "https://localhost:8080/"
        },
        "id": "db05ja0s1zk0",
        "outputId": "713519b9-1fde-4971-b823-13b2e2567501"
      },
      "execution_count": null,
      "outputs": [
        {
          "output_type": "stream",
          "name": "stdout",
          "text": [
            "Epoch 1\n",
            "-------------------------------\n",
            "loss: 1.937626  [   64/182625]\n",
            "loss: 1.628294  [64064/182625]\n",
            "loss: 1.922525  [128064/182625]\n",
            "Test Error: \n",
            " Accuracy: 34.3%, Avg loss: 2.113536 \n",
            "\n",
            "Epoch 2\n",
            "-------------------------------\n",
            "loss: 1.933589  [   64/182625]\n",
            "loss: 1.629084  [64064/182625]\n",
            "loss: 1.925005  [128064/182625]\n",
            "Test Error: \n",
            " Accuracy: 34.4%, Avg loss: 2.113359 \n",
            "\n",
            "Epoch 3\n",
            "-------------------------------\n",
            "loss: 1.931669  [   64/182625]\n",
            "loss: 1.630161  [64064/182625]\n",
            "loss: 1.925921  [128064/182625]\n",
            "Test Error: \n",
            " Accuracy: 34.4%, Avg loss: 2.113462 \n",
            "\n",
            "Epoch 4\n",
            "-------------------------------\n",
            "loss: 1.929956  [   64/182625]\n",
            "loss: 1.630580  [64064/182625]\n",
            "loss: 1.926156  [128064/182625]\n",
            "Test Error: \n",
            " Accuracy: 34.3%, Avg loss: 2.113620 \n",
            "\n",
            "Epoch 5\n",
            "-------------------------------\n",
            "loss: 1.928396  [   64/182625]\n",
            "loss: 1.630594  [64064/182625]\n",
            "loss: 1.926077  [128064/182625]\n",
            "Test Error: \n",
            " Accuracy: 34.3%, Avg loss: 2.113789 \n",
            "\n",
            "Done!\n"
          ]
        }
      ]
    },
    {
      "cell_type": "code",
      "source": [
        "# sample from the model\n",
        "g = torch.Generator(device=device).manual_seed(2147483647 + 10)\n",
        "\n",
        "for _ in range(20):\n",
        "\n",
        "    out = []\n",
        "    context = [0] * block_size # initialize with all ...\n",
        "    while True:\n",
        "      logits = model(torch.tensor([context]).to(device))\n",
        "      probs = F.softmax(logits, dim=1)\n",
        "      ix = torch.multinomial(probs, num_samples=1, generator=g).item()\n",
        "      context = context[1:] + [ix]\n",
        "      out.append(ix)\n",
        "      if ix == 0:\n",
        "        break\n",
        "\n",
        "    print(''.join(itos[i] for i in out))"
      ],
      "metadata": {
        "colab": {
          "base_uri": "https://localhost:8080/"
        },
        "id": "BGrjphLm13ak",
        "outputId": "7ec431ac-129f-411e-ee4c-d261e52df66d"
      },
      "execution_count": null,
      "outputs": [
        {
          "output_type": "stream",
          "name": "stdout",
          "text": [
            "brent.\n",
            "shauniah.\n",
            "frandro.\n",
            "hardrick.\n",
            "breidyn.\n",
            "murphyne.\n",
            "valyanna.\n",
            "georgencis.\n",
            "melo.\n",
            "jaelynn.\n",
            "aarsh.\n",
            "taly.\n",
            "keng.\n",
            "chana.\n",
            "jah.\n",
            "aan.\n",
            "jullani.\n",
            "donna.\n",
            "aviel.\n",
            "thi.\n"
          ]
        }
      ]
    },
    {
      "cell_type": "code",
      "source": [],
      "metadata": {
        "id": "QfhNamey3wRR"
      },
      "execution_count": null,
      "outputs": []
    }
  ]
}